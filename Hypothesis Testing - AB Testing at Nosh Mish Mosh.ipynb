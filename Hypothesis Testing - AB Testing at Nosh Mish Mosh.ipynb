{
 "cells": [
  {
   "cell_type": "markdown",
   "id": "045b55e2",
   "metadata": {},
   "source": [
    "# A/B Testing at Nosh Mish Mosh"
   ]
  },
  {
   "cell_type": "markdown",
   "id": "972ecab1",
   "metadata": {},
   "source": [
    "The Nosh Mish Mosh is a recipe and ingredient meal delivery service. They ship the raw materials and you get to cook them at your home! They’ve decided to hire a data analyst to help make product and interface decisions. Get started to help them figure out the amount of data they’ll need to make meaningful decisions."
   ]
  },
  {
   "cell_type": "code",
   "execution_count": 1,
   "id": "25c244e7",
   "metadata": {},
   "outputs": [],
   "source": [
    "import pandas as pd\n",
    "import numpy as np\n",
    "from scipy.stats import chi2_contingency"
   ]
  },
  {
   "cell_type": "markdown",
   "id": "4ca69568",
   "metadata": {},
   "source": [
    "## Nosh Mish Mosh: An Assortment of Edible Aliments"
   ]
  },
  {
   "cell_type": "markdown",
   "id": "d4bf3756",
   "metadata": {},
   "source": [
    "1. We’ve collected customer data for the past week and exposed it through a Python library, so first import `noshmishmosh`."
   ]
  },
  {
   "cell_type": "code",
   "execution_count": 2,
   "id": "44d35c4b",
   "metadata": {},
   "outputs": [],
   "source": [
    "import noshmishmosh"
   ]
  },
  {
   "cell_type": "markdown",
   "id": "6d3211fb",
   "metadata": {},
   "source": [
    "## A/B Testing at Nosh Mish Mosh\n",
    "3. Nosh Mish Mosh wants to run an experiment to see if we can convince more people to purchase meal plans if we use a more artisanal-looking vegetable selection. We’ve photographed these modern meals with blush tomatoes and graffiti eggplants, but aren’t sure if this strategy will sell enough units to benefit from establishing a business relationship with a new provider.\n",
    "\n",
    "   Before running this experiment, of course, we need to know the sample size that will be required to detect the difference we are hoping for. There are three things we need to know before we can determine that number.\n",
    "\n",
    "    -    the **Baseline Conversion Rate**\n",
    "    -    **Minimum Detectable Effect** (desired lift)\n",
    "    -    and the **Statistical Significance Threshold**\n",
    "\n",
    "\n",
    "4. Let’s get the ball rolling on finding those numbers! In order to get our baseline, we need to first know how many users visit the site in a typical week. Let’s grab that logged information, which is stored in `noshmishmosh.customer_visits`. Assign that to a new variable called `all_visitors`.\n"
   ]
  },
  {
   "cell_type": "code",
   "execution_count": 15,
   "id": "e1fa3aa4",
   "metadata": {},
   "outputs": [
    {
     "data": {
      "text/plain": [
       "[{'purchased': False,\n",
       "  'clickedthrough': True,\n",
       "  'id': 83421,\n",
       "  'moneyspent': 0,\n",
       "  'name': 'Michael Todd'},\n",
       " {'purchased': False,\n",
       "  'clickedthrough': True,\n",
       "  'id': 46042,\n",
       "  'moneyspent': 0,\n",
       "  'name': 'Brianna Harmon'},\n",
       " {'purchased': False,\n",
       "  'clickedthrough': False,\n",
       "  'id': 23766,\n",
       "  'moneyspent': 0,\n",
       "  'name': 'Mario Arnold'}]"
      ]
     },
     "execution_count": 15,
     "metadata": {},
     "output_type": "execute_result"
    }
   ],
   "source": [
    "all_visitors = noshmishmosh.customer_visits\n",
    "all_visitors[0:3]"
   ]
  },
  {
   "cell_type": "markdown",
   "id": "73c340a0",
   "metadata": {},
   "source": [
    "5. Next we need to know how many visitors to the site ultimately end up buying a meal or set of meals in a typical week. We have that information saved into `purchasing_customers` field on noshmishmosh. Save that information into a variable called `paying_visitors`."
   ]
  },
  {
   "cell_type": "code",
   "execution_count": 16,
   "id": "e7f04993",
   "metadata": {},
   "outputs": [
    {
     "data": {
      "text/plain": [
       "[{'purchased': True,\n",
       "  'clickedthrough': True,\n",
       "  'id': 15153,\n",
       "  'moneyspent': 39.01,\n",
       "  'name': 'Jacob Harmon'},\n",
       " {'purchased': True,\n",
       "  'clickedthrough': True,\n",
       "  'id': 74271,\n",
       "  'moneyspent': 10.16,\n",
       "  'name': 'Wayne Potter'},\n",
       " {'purchased': True,\n",
       "  'clickedthrough': True,\n",
       "  'id': 83489,\n",
       "  'moneyspent': 36.88,\n",
       "  'name': 'Jimmy Carrillo'}]"
      ]
     },
     "execution_count": 16,
     "metadata": {},
     "output_type": "execute_result"
    }
   ],
   "source": [
    "paying_visitors = noshmishmosh.purchasing_customers\n",
    "paying_visitors[0:3]"
   ]
  },
  {
   "cell_type": "markdown",
   "id": "70f3d654",
   "metadata": {},
   "source": [
    "6. Calculate the lengths of the two lists, saving the results into variables called `total_visitor_count` and `paying_visitor_count`, respectively."
   ]
  },
  {
   "cell_type": "code",
   "execution_count": 9,
   "id": "f9502319",
   "metadata": {},
   "outputs": [
    {
     "name": "stdout",
     "output_type": "stream",
     "text": [
      "The total visitors to the site is: 500\n",
      "\n",
      "The total of visitors who puchased meals is: 93\n"
     ]
    }
   ],
   "source": [
    "total_visitor_count = len(all_visitors)\n",
    "paying_visitor_count = len(paying_visitors)\n",
    "print('The total visitors to the site is: ' + str(total_visitor_count) + '\\n')\n",
    "print('The total of visitors who puchased meals is: ' + str(paying_visitor_count))"
   ]
  },
  {
   "cell_type": "markdown",
   "id": "80325603",
   "metadata": {},
   "source": [
    "7. Now to get the baseline: Divide the number of purchasing visitors by the number of total visitors. Save the result in a variable called `baseline_percent`. Since we want a percentage as our answer, multiply the result by `100.0`."
   ]
  },
  {
   "cell_type": "code",
   "execution_count": 10,
   "id": "74156e1d",
   "metadata": {},
   "outputs": [],
   "source": [
    "baseline_percent = paying_visitor_count / total_visitor_count * 100"
   ]
  },
  {
   "cell_type": "markdown",
   "id": "8bddbf88",
   "metadata": {},
   "source": [
    "Print out the `baseline_percent` so we know what to use for our baseline percentage in the A/B Sample Size Calculator."
   ]
  },
  {
   "cell_type": "code",
   "execution_count": 12,
   "id": "74599ab7",
   "metadata": {},
   "outputs": [
    {
     "name": "stdout",
     "output_type": "stream",
     "text": [
      "The baseline is 18.6%.\n"
     ]
    }
   ],
   "source": [
    "print('The baseline is ' + str(baseline_percent) + '%.')"
   ]
  },
  {
   "cell_type": "markdown",
   "id": "97eb3865",
   "metadata": {},
   "source": [
    "## Mish Mosh B'Gosh: The Effect Size\n",
    "9. These rainbow fingerling potatoes don’t come cheap. We’d like to know for sure that, with this change, we’ll be pulling in at least $1240 more every week. In order to figure out how many more customers we need, we’ll have to investigate the average revenue generated from a given sale. Luckily we have a list of the money spent by each customer in a typical week: `noshmishmosh.money_spent`. Save that list into a variable called `payment_history`."
   ]
  },
  {
   "cell_type": "code",
   "execution_count": 14,
   "id": "cf6f6740",
   "metadata": {},
   "outputs": [
    {
     "data": {
      "text/plain": [
       "[39.01, 10.16, 36.88]"
      ]
     },
     "execution_count": 14,
     "metadata": {},
     "output_type": "execute_result"
    }
   ],
   "source": [
    "payment_history = noshmishmosh.money_spent\n",
    "payment_history[0:3]"
   ]
  },
  {
   "cell_type": "markdown",
   "id": "d6fc3fdd",
   "metadata": {},
   "source": [
    "10. We need to find how many purchases it would take to reach $1240 in additional revenue using our historical data.\n",
    "\n",
    "   Let’s start with computing the average payment per paying customer using np.mean, saving it as average_payment.\n"
   ]
  },
  {
   "cell_type": "code",
   "execution_count": 20,
   "id": "7166f584",
   "metadata": {},
   "outputs": [
    {
     "name": "stdout",
     "output_type": "stream",
     "text": [
      "The average purchase is $26.54.\n"
     ]
    }
   ],
   "source": [
    "average_payment = np.mean(payment_history)\n",
    "print('The average purchase is $' + str(round(average_payment,2)) + '.')"
   ]
  },
  {
   "cell_type": "markdown",
   "id": "ff8555ee",
   "metadata": {},
   "source": [
    "11. We want to know how many of these “usual” payments it would take to clear our \\\\$1240 mark. Round the number up using `np.ceil` (because that’s how many new customers it takes to bring in more than \\$1240). Save that value into a `new_customers_needed` variable."
   ]
  },
  {
   "cell_type": "code",
   "execution_count": 21,
   "id": "c120ea8f",
   "metadata": {},
   "outputs": [
    {
     "name": "stdout",
     "output_type": "stream",
     "text": [
      "47.0 new customers are needed to clear the $1240 mark.\n"
     ]
    }
   ],
   "source": [
    "new_customers_needed = np.ceil(1240 / average_payment)\n",
    "print(str(new_customers_needed) + ' new customers are needed to clear the $1240 mark.')"
   ]
  },
  {
   "cell_type": "markdown",
   "id": "777d0c7e",
   "metadata": {},
   "source": [
    "12. Now find the additional percent of weekly visitors who must make a purchase in order to make this change worthwhile. Do this by dividing the number of customers by the total visitor count for a typical week (calculated earlier), and multiplying by 100. Save the result in a variable called `percentage_point_increase`. Print `percentage_point_increase` to see what it is."
   ]
  },
  {
   "cell_type": "code",
   "execution_count": 23,
   "id": "7843daeb",
   "metadata": {},
   "outputs": [
    {
     "name": "stdout",
     "output_type": "stream",
     "text": [
      "The additional percent of weekly visitors who must make a purchase in order to make this change worthwhile is: 9.4%\n"
     ]
    }
   ],
   "source": [
    "percentage_point_increase = (new_customers_needed / total_visitor_count) * 100\n",
    "print('The additional percent of weekly visitors who must make a purchase in order to make this change worthwhile is: ' + str(percentage_point_increase) + '%')"
   ]
  },
  {
   "cell_type": "markdown",
   "id": "7893dcb4",
   "metadata": {},
   "source": [
    "13. In order to find our minimum detectable effect/desired lift, we need to express `percentage_point_increase` as a percent of `baseline_percent`. You can do this by dividing `percentage_point_increase` by `baseline_percent` and multiplying by `100.0`.\n",
    "\n",
    "    Store the results in a variable called `mde`."
   ]
  },
  {
   "cell_type": "code",
   "execution_count": 25,
   "id": "bf1b2b52",
   "metadata": {},
   "outputs": [],
   "source": [
    "mde = percentage_point_increase / baseline_percent * 100"
   ]
  },
  {
   "cell_type": "markdown",
   "id": "1df07e9a",
   "metadata": {},
   "source": [
    "14. Print out the result `mde`."
   ]
  },
  {
   "cell_type": "code",
   "execution_count": 29,
   "id": "6648867b",
   "metadata": {},
   "outputs": [
    {
     "name": "stdout",
     "output_type": "stream",
     "text": [
      "The minimum detectable effect, or desired lift, is 50.54%.\n"
     ]
    }
   ],
   "source": [
    "print('The minimum detectable effect, or desired lift, is ' + str(round(mde,2)) + '%.')"
   ]
  },
  {
   "cell_type": "markdown",
   "id": "7c6ec67d",
   "metadata": {},
   "source": [
    "## Nosh Mish Mosh: Tying It All Together\n",
    "15. The last thing we need to calculate the sample size for Nosh Mish Mosh’s artisanal rebranding is our statistical significance threshold. We’d like to be fairly certain, but this isn’t going to be a million dollar decision, so let’s go with 10%."
   ]
  },
  {
   "cell_type": "markdown",
   "id": "e7b1b3c8",
   "metadata": {},
   "source": [
    "16. Now put it all together! Punch the baseline, the minimum detectable effect, and the statistical significance threshold into the calculator and evaluate how many people need to be shown the new assets before we can check if the results are a significant improvement. Save the results in a variable called `ab_sample_size`."
   ]
  },
  {
   "cell_type": "code",
   "execution_count": 30,
   "id": "a59d03f5",
   "metadata": {},
   "outputs": [
    {
     "name": "stdout",
     "output_type": "stream",
     "text": [
      "440 people need to be shown the new assets before we can check if the results are a significant improvement.\n"
     ]
    }
   ],
   "source": [
    "ab_sample_size = 440\n",
    "print(str(ab_sample_size) + ' people need to be shown the new assets before we can check if the results are a significant improvement.')"
   ]
  }
 ],
 "metadata": {
  "kernelspec": {
   "display_name": "Python 3 (ipykernel)",
   "language": "python",
   "name": "python3"
  },
  "language_info": {
   "codemirror_mode": {
    "name": "ipython",
    "version": 3
   },
   "file_extension": ".py",
   "mimetype": "text/x-python",
   "name": "python",
   "nbconvert_exporter": "python",
   "pygments_lexer": "ipython3",
   "version": "3.9.7"
  }
 },
 "nbformat": 4,
 "nbformat_minor": 5
}
